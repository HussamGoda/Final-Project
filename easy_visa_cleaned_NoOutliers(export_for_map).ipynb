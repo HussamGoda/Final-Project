{
 "cells": [
  {
   "cell_type": "markdown",
   "id": "43bf1a22",
   "metadata": {},
   "source": [
    "Add longitude and latitude for Tableau map, link: https://public.tableau.com/app/profile/yoshie.hara/viz/Project4_16992384309060/Story1"
   ]
  },
  {
   "cell_type": "code",
   "execution_count": 1,
   "id": "ab6764ef",
   "metadata": {},
   "outputs": [],
   "source": [
    "import pandas as pd"
   ]
  },
  {
   "cell_type": "code",
   "execution_count": 2,
   "id": "7ac24f53",
   "metadata": {},
   "outputs": [],
   "source": [
    "df = pd.read_csv('easy_visa_cleaned_NoOutliers.csv')"
   ]
  },
  {
   "cell_type": "code",
   "execution_count": 3,
   "id": "60280348",
   "metadata": {},
   "outputs": [
    {
     "data": {
      "text/plain": [
       "region_of_employment\n",
       "South        5006\n",
       "Northeast    4994\n",
       "West         4869\n",
       "Midwest      3292\n",
       "Island        269\n",
       "Name: count, dtype: int64"
      ]
     },
     "execution_count": 3,
     "metadata": {},
     "output_type": "execute_result"
    }
   ],
   "source": [
    "df['region_of_employment'].value_counts()"
   ]
  },
  {
   "cell_type": "code",
   "execution_count": 4,
   "id": "9aab9984",
   "metadata": {},
   "outputs": [],
   "source": [
    "region_coordinates = {\n",
    "    \"Midwest\": (42.0323, -93.5817),\n",
    "    \"West\": (37.7749, -122.4194),\n",
    "    \"Northeast\": (40.7128, -74.0060),\n",
    "    \"South\": (32.7767, -96.7970),\n",
    "    \"Island\": (21.3156, -157.8580)\n",
    "}\n"
   ]
  },
  {
   "cell_type": "code",
   "execution_count": 5,
   "id": "cd91b2e5",
   "metadata": {},
   "outputs": [],
   "source": [
    "df[\"latitude\"] = df[\"region_of_employment\"].map(lambda region: region_coordinates.get(region)[0])\n",
    "df[\"longitude\"] = df[\"region_of_employment\"].map(lambda region: region_coordinates.get(region)[1])"
   ]
  },
  {
   "cell_type": "code",
   "execution_count": 6,
   "id": "36d8e8e1",
   "metadata": {},
   "outputs": [
    {
     "data": {
      "text/html": [
       "<div>\n",
       "<style scoped>\n",
       "    .dataframe tbody tr th:only-of-type {\n",
       "        vertical-align: middle;\n",
       "    }\n",
       "\n",
       "    .dataframe tbody tr th {\n",
       "        vertical-align: top;\n",
       "    }\n",
       "\n",
       "    .dataframe thead th {\n",
       "        text-align: right;\n",
       "    }\n",
       "</style>\n",
       "<table border=\"1\" class=\"dataframe\">\n",
       "  <thead>\n",
       "    <tr style=\"text-align: right;\">\n",
       "      <th></th>\n",
       "      <th>case_id</th>\n",
       "      <th>continent</th>\n",
       "      <th>education_of_employee</th>\n",
       "      <th>has_job_experience</th>\n",
       "      <th>requires_job_training</th>\n",
       "      <th>no_of_employees</th>\n",
       "      <th>yr_of_estab</th>\n",
       "      <th>region_of_employment</th>\n",
       "      <th>prevailing_wage</th>\n",
       "      <th>unit_of_wage</th>\n",
       "      <th>full_time_position</th>\n",
       "      <th>case_status</th>\n",
       "      <th>latitude</th>\n",
       "      <th>longitude</th>\n",
       "    </tr>\n",
       "  </thead>\n",
       "  <tbody>\n",
       "    <tr>\n",
       "      <th>0</th>\n",
       "      <td>EZYV02</td>\n",
       "      <td>Asia</td>\n",
       "      <td>Master's</td>\n",
       "      <td>Y</td>\n",
       "      <td>N</td>\n",
       "      <td>2412</td>\n",
       "      <td>2002</td>\n",
       "      <td>Northeast</td>\n",
       "      <td>83425.65</td>\n",
       "      <td>Year</td>\n",
       "      <td>Y</td>\n",
       "      <td>Certified</td>\n",
       "      <td>40.7128</td>\n",
       "      <td>-74.0060</td>\n",
       "    </tr>\n",
       "    <tr>\n",
       "      <th>1</th>\n",
       "      <td>EZYV05</td>\n",
       "      <td>Africa</td>\n",
       "      <td>Master's</td>\n",
       "      <td>Y</td>\n",
       "      <td>N</td>\n",
       "      <td>1082</td>\n",
       "      <td>2005</td>\n",
       "      <td>South</td>\n",
       "      <td>149907.39</td>\n",
       "      <td>Year</td>\n",
       "      <td>Y</td>\n",
       "      <td>Certified</td>\n",
       "      <td>32.7767</td>\n",
       "      <td>-96.7970</td>\n",
       "    </tr>\n",
       "    <tr>\n",
       "      <th>2</th>\n",
       "      <td>EZYV06</td>\n",
       "      <td>Asia</td>\n",
       "      <td>Master's</td>\n",
       "      <td>Y</td>\n",
       "      <td>N</td>\n",
       "      <td>2339</td>\n",
       "      <td>2012</td>\n",
       "      <td>South</td>\n",
       "      <td>78252.14</td>\n",
       "      <td>Year</td>\n",
       "      <td>Y</td>\n",
       "      <td>Certified</td>\n",
       "      <td>32.7767</td>\n",
       "      <td>-96.7970</td>\n",
       "    </tr>\n",
       "    <tr>\n",
       "      <th>3</th>\n",
       "      <td>EZYV07</td>\n",
       "      <td>Asia</td>\n",
       "      <td>Bachelor's</td>\n",
       "      <td>N</td>\n",
       "      <td>N</td>\n",
       "      <td>4985</td>\n",
       "      <td>1994</td>\n",
       "      <td>South</td>\n",
       "      <td>53635.39</td>\n",
       "      <td>Year</td>\n",
       "      <td>Y</td>\n",
       "      <td>Certified</td>\n",
       "      <td>32.7767</td>\n",
       "      <td>-96.7970</td>\n",
       "    </tr>\n",
       "    <tr>\n",
       "      <th>4</th>\n",
       "      <td>EZYV09</td>\n",
       "      <td>Asia</td>\n",
       "      <td>Bachelor's</td>\n",
       "      <td>N</td>\n",
       "      <td>N</td>\n",
       "      <td>4810</td>\n",
       "      <td>2012</td>\n",
       "      <td>Midwest</td>\n",
       "      <td>74362.19</td>\n",
       "      <td>Year</td>\n",
       "      <td>Y</td>\n",
       "      <td>Certified</td>\n",
       "      <td>42.0323</td>\n",
       "      <td>-93.5817</td>\n",
       "    </tr>\n",
       "  </tbody>\n",
       "</table>\n",
       "</div>"
      ],
      "text/plain": [
       "  case_id continent education_of_employee has_job_experience  \\\n",
       "0  EZYV02      Asia              Master's                  Y   \n",
       "1  EZYV05    Africa              Master's                  Y   \n",
       "2  EZYV06      Asia              Master's                  Y   \n",
       "3  EZYV07      Asia            Bachelor's                  N   \n",
       "4  EZYV09      Asia            Bachelor's                  N   \n",
       "\n",
       "  requires_job_training  no_of_employees  yr_of_estab region_of_employment  \\\n",
       "0                     N             2412         2002            Northeast   \n",
       "1                     N             1082         2005                South   \n",
       "2                     N             2339         2012                South   \n",
       "3                     N             4985         1994                South   \n",
       "4                     N             4810         2012              Midwest   \n",
       "\n",
       "   prevailing_wage unit_of_wage full_time_position case_status  latitude  \\\n",
       "0         83425.65         Year                  Y   Certified   40.7128   \n",
       "1        149907.39         Year                  Y   Certified   32.7767   \n",
       "2         78252.14         Year                  Y   Certified   32.7767   \n",
       "3         53635.39         Year                  Y   Certified   32.7767   \n",
       "4         74362.19         Year                  Y   Certified   42.0323   \n",
       "\n",
       "   longitude  \n",
       "0   -74.0060  \n",
       "1   -96.7970  \n",
       "2   -96.7970  \n",
       "3   -96.7970  \n",
       "4   -93.5817  "
      ]
     },
     "execution_count": 6,
     "metadata": {},
     "output_type": "execute_result"
    }
   ],
   "source": [
    "df.head()"
   ]
  },
  {
   "cell_type": "code",
   "execution_count": 7,
   "id": "763e0ab7",
   "metadata": {},
   "outputs": [],
   "source": [
    "df.to_csv('map.csv', index=False) "
   ]
  },
  {
   "cell_type": "code",
   "execution_count": null,
   "id": "faf51aa8",
   "metadata": {},
   "outputs": [],
   "source": []
  }
 ],
 "metadata": {
  "kernelspec": {
   "display_name": "Python 3 (ipykernel)",
   "language": "python",
   "name": "python3"
  },
  "language_info": {
   "codemirror_mode": {
    "name": "ipython",
    "version": 3
   },
   "file_extension": ".py",
   "mimetype": "text/x-python",
   "name": "python",
   "nbconvert_exporter": "python",
   "pygments_lexer": "ipython3",
   "version": "3.11.4"
  }
 },
 "nbformat": 4,
 "nbformat_minor": 5
}
